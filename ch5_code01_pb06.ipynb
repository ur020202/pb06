{
  "nbformat": 4,
  "nbformat_minor": 0,
  "metadata": {
    "colab": {
      "name": "ch5_code01_pb06.ipynb",
      "provenance": [],
      "collapsed_sections": [],
      "toc_visible": true
    },
    "kernelspec": {
      "display_name": "Python 3",
      "language": "python",
      "name": "python3"
    },
    "language_info": {
      "codemirror_mode": {
        "name": "ipython",
        "version": 3
      },
      "file_extension": ".py",
      "mimetype": "text/x-python",
      "name": "python",
      "nbconvert_exporter": "python",
      "pygments_lexer": "ipython3",
      "version": "3.7.5"
    }
  },
  "cells": [
    {
      "cell_type": "markdown",
      "metadata": {
        "id": "H4jNE-BMAK3f"
      },
      "source": [
        "# ch5_code01.ipynb\n",
        "## 5장 파이썬 날개달기\n",
        "## py00  (change to your id)\n",
        "### 클래스, 모듈, 패키지\n",
        "---\n",
        "- 클래스\n",
        "   - 클래스는 왜 필요한가?\n",
        "   - 클래스와 객체\n",
        "   - 사칙연산 클래스 만들기\n",
        "     - 클래스를 어떻게 만들지 먼저 구상하기\n",
        "     - 클래스 구조 만들기\n",
        "     - 객체에 숫자 지정할 수 있게 만들기\n",
        "     - 더하기 기능 만들기\n",
        "     - 곱하기, 빼기, 나누기 기능 만들기\n",
        "   - 생성자 (Constructor)\n",
        "   - 클래스의 상속\n",
        "   - 메서드 오버라이딩\n",
        "   - 클래스 변수"
      ]
    },
    {
      "cell_type": "code",
      "metadata": {
        "colab": {
          "base_uri": "https://localhost:8080/"
        },
        "id": "LMG7vTXJEB3s",
        "outputId": "5cdec352-cade-4872-e634-b355f8a5fc0e"
      },
      "source": [
        "# ch5_01_class.py\n",
        "#\n",
        "print(\"클래스란 무엇인가?\")\n",
        "#######################################\n",
        "# 클래스(class)\n",
        "#######################################"
      ],
      "execution_count": 11,
      "outputs": [
        {
          "output_type": "stream",
          "text": [
            "클래스란 무엇인가?\n"
          ],
          "name": "stdout"
        }
      ]
    },
    {
      "cell_type": "code",
      "metadata": {
        "colab": {
          "base_uri": "https://localhost:8080/"
        },
        "id": "5XtOg2_4Et9R",
        "outputId": "9f7f6e6b-1b96-445b-cc69-9591357a6f9b"
      },
      "source": [
        "print(\"클래스는 왜 필요한가?\")\n",
        "#######################################\n",
        "# 지정된 기능을 수행하는 변수와 함수의 모음\n",
        "# 인스턴스, 즉 객체를 생성하여 기능을 이용\n",
        "# 코딩을 객체화\n",
        "#######################################\n",
        "# \n",
        "# [예] 이전에 계산한 결괏값을 기억하고 있는 계산기\n",
        "# \n",
        "result = 0\n",
        "\n",
        "def add(num):\n",
        "    global result\n",
        "    result += num\n",
        "    return result\n",
        "\n",
        "\n",
        "# 이전에 계산한 결괏값을 기억\n",
        "print(add(3))\n",
        "print(add(4))\n"
      ],
      "execution_count": 13,
      "outputs": [
        {
          "output_type": "stream",
          "text": [
            "클래스는 왜 필요한가?\n",
            "3\n",
            "7\n"
          ],
          "name": "stdout"
        }
      ]
    },
    {
      "cell_type": "code",
      "metadata": {
        "colab": {
          "base_uri": "https://localhost:8080/"
        },
        "id": "Lb-AhkAgE9O5",
        "outputId": "004794cd-61d5-41b8-e619-8f118f7b4b35"
      },
      "source": [
        "result"
      ],
      "execution_count": 14,
      "outputs": [
        {
          "output_type": "execute_result",
          "data": {
            "text/plain": [
              "7"
            ]
          },
          "metadata": {
            "tags": []
          },
          "execution_count": 14
        }
      ]
    },
    {
      "cell_type": "code",
      "metadata": {
        "colab": {
          "base_uri": "https://localhost:8080/"
        },
        "id": "b12G3yR9FUvP",
        "outputId": "41acc046-0b71-446f-b43b-a426d56cc10a"
      },
      "source": [
        "# 2대의 계산기가 필요한 상황이 발생하면?\n",
        "result1 = 0\n",
        "result2 = 0\n",
        "\n",
        "def add1(num):\n",
        "    global result1\n",
        "    result1 += num\n",
        "    return result1\n",
        "\n",
        "\n",
        "def add2(num):\n",
        "    global result2\n",
        "    result2 += num\n",
        "    return result2\n",
        "\n",
        "\n",
        "\n",
        "print(add1(3))\n",
        "print(add1(4))\n",
        "\n",
        "print(add2(3))\n",
        "print(add2(7))\n",
        "\n",
        "# 계산기 1의 결괏값이 계산기 2에 아무 영향을 끼치지 않음을 확인할 수 있다. \n",
        "# 하지만 계산기가 3개, 5개, 10개로 점점 더 많이 필요해진다면 어떻게 해야 할까? \n",
        "# 그때마다 전역 변수와 함수를 추가할 것인가? \n"
      ],
      "execution_count": 15,
      "outputs": [
        {
          "output_type": "stream",
          "text": [
            "3\n",
            "7\n",
            "3\n",
            "10\n"
          ],
          "name": "stdout"
        }
      ]
    },
    {
      "cell_type": "code",
      "metadata": {
        "colab": {
          "base_uri": "https://localhost:8080/"
        },
        "id": "G_6kRthkFmTw",
        "outputId": "67418c66-4949-405f-fbe9-789e82137877"
      },
      "source": [
        "result1,result2"
      ],
      "execution_count": 16,
      "outputs": [
        {
          "output_type": "execute_result",
          "data": {
            "text/plain": [
              "(7, 10)"
            ]
          },
          "metadata": {
            "tags": []
          },
          "execution_count": 16
        }
      ]
    },
    {
      "cell_type": "markdown",
      "metadata": {
        "id": "_RKc0E6HFwO4"
      },
      "source": [
        "### 클래스를 설계"
      ]
    },
    {
      "cell_type": "code",
      "metadata": {
        "colab": {
          "base_uri": "https://localhost:8080/"
        },
        "id": "vERMVK5aGN7u",
        "outputId": "ee8e1cae-ec08-4162-8dd2-59660b9321ed"
      },
      "source": [
        "#######################################\n",
        "print(\"클래스를 사용하면 간단하게 해결\")\n",
        "#######################################\n",
        "# class Calculator\n",
        "class Calculator:\n",
        "    def __init__(self):\n",
        "        self.result = 0\n",
        "\n",
        "    def add(self, num):\n",
        "        self.result += num\n",
        "        return self.result\n",
        "    \n",
        "    # def sub(self, num):\n",
        "    #     self.result -= num\n",
        "    #     return self.result\n"
      ],
      "execution_count": 18,
      "outputs": [
        {
          "output_type": "stream",
          "text": [
            "클래스를 사용하면 간단하게 해결\n"
          ],
          "name": "stdout"
        }
      ]
    },
    {
      "cell_type": "code",
      "metadata": {
        "colab": {
          "base_uri": "https://localhost:8080/"
        },
        "id": "_ucjkMZhGaMG",
        "outputId": "47d8baea-4b83-4410-858b-94d396147795"
      },
      "source": [
        "cal1 = Calculator()\n",
        "cal2 = Calculator()\n",
        "\n",
        "print(cal1.add(3))\n",
        "print(cal1.add(4))\n",
        "print(cal2.add(3))\n",
        "print(cal2.add(7))\n"
      ],
      "execution_count": 19,
      "outputs": [
        {
          "output_type": "stream",
          "text": [
            "3\n",
            "7\n",
            "3\n",
            "10\n"
          ],
          "name": "stdout"
        }
      ]
    },
    {
      "cell_type": "code",
      "metadata": {
        "colab": {
          "base_uri": "https://localhost:8080/"
        },
        "id": "URRAOda8GmgN",
        "outputId": "f87d8f51-4446-43cb-b970-3627b47e973e"
      },
      "source": [
        "cal3=Calculator()\n",
        "cal3.add(10)"
      ],
      "execution_count": 20,
      "outputs": [
        {
          "output_type": "execute_result",
          "data": {
            "text/plain": [
              "10"
            ]
          },
          "metadata": {
            "tags": []
          },
          "execution_count": 20
        }
      ]
    },
    {
      "cell_type": "code",
      "metadata": {
        "colab": {
          "base_uri": "https://localhost:8080/"
        },
        "id": "u_g9p0A2HcW8",
        "outputId": "941e287b-8389-4b7e-8e6c-8204680e052a"
      },
      "source": [
        "cal3.add(40)"
      ],
      "execution_count": 21,
      "outputs": [
        {
          "output_type": "execute_result",
          "data": {
            "text/plain": [
              "50"
            ]
          },
          "metadata": {
            "tags": []
          },
          "execution_count": 21
        }
      ]
    },
    {
      "cell_type": "code",
      "metadata": {
        "id": "OFA9WdAAH8cB"
      },
      "source": [
        "# \n",
        "# 뺄셈(sub)을 추가하고 클래스의 객체를 다시 만들어서 사용한다.\n",
        "# \n",
        "# class Calculator\n",
        "class Calculator:\n",
        "    def __init__(self):\n",
        "        self.result = 0\n",
        "\n",
        "    def add(self, num):\n",
        "        self.result += num\n",
        "        return self.result\n",
        "    \n",
        "    def sub(self, num):\n",
        "        self.result -= num\n",
        "        return self.result\n"
      ],
      "execution_count": 22,
      "outputs": []
    },
    {
      "cell_type": "code",
      "metadata": {
        "colab": {
          "base_uri": "https://localhost:8080/"
        },
        "id": "DKNMHp7ZIWbL",
        "outputId": "d32582e6-530b-4cb9-cbba-c2907e791c05"
      },
      "source": [
        "cal = Calculator()\n",
        "cal.add(100)\n",
        "cal.sub(50)"
      ],
      "execution_count": 23,
      "outputs": [
        {
          "output_type": "execute_result",
          "data": {
            "text/plain": [
              "50"
            ]
          },
          "metadata": {
            "tags": []
          },
          "execution_count": 23
        }
      ]
    },
    {
      "cell_type": "markdown",
      "metadata": {
        "id": "-vE4nPK8Is5p"
      },
      "source": [
        "### 클래스와 객체"
      ]
    },
    {
      "cell_type": "code",
      "metadata": {
        "colab": {
          "base_uri": "https://localhost:8080/"
        },
        "id": "wgV6t9ekI8rp",
        "outputId": "2ba59962-7f2d-4b94-85c2-2794ab6e7b03"
      },
      "source": [
        "print(\"클래스와 객체\")\n",
        "#######################################\n",
        "# 클래스(class)란 똑같은 무엇인가를 계속해서 만들어 낼 수 있는 설계 도면\n",
        "# 객체(object)란 클래스로 만든 피조물(과자 틀을 사용해 만든 과자)\n",
        "#\n",
        "# 클래스(class) : 과자 틀 \n",
        "# 객체(object) : 과자 틀을 사용해 만든 과자\n",
        "#\n",
        "# 동일한 클래스로 만든 객체들은 서로 전혀 영향을 주지 않는다.\n",
        "#######################################\n",
        "\n",
        "# 간단한 클래스와 객체 \n",
        "class Cookie:\n",
        "    pass\n",
        "\n",
        "a = Cookie()\n",
        "b = Cookie()\n",
        "id(a), id(b), id(a)==id(b)\n"
      ],
      "execution_count": 25,
      "outputs": [
        {
          "output_type": "stream",
          "text": [
            "클래스와 객체\n"
          ],
          "name": "stdout"
        },
        {
          "output_type": "execute_result",
          "data": {
            "text/plain": [
              "(139946422321616, 139946422321232, False)"
            ]
          },
          "metadata": {
            "tags": []
          },
          "execution_count": 25
        }
      ]
    },
    {
      "cell_type": "markdown",
      "metadata": {
        "id": "fEMQ0w7uJSDh"
      },
      "source": [
        "### 객체와 인스턴스의 차이\n",
        "####  a = Cookie() 이렇게 만든 a는 객체이다. \n",
        "- 그리고 a 객체는 Cookie의 인스턴스이다. \n",
        "> 즉 인스턴스라는 말은 특정 객체(a)가 어떤 클래스(Cookie)의 객체인지를 관계 위주로 설명할 때 사용한다."
      ]
    },
    {
      "cell_type": "code",
      "metadata": {
        "colab": {
          "base_uri": "https://localhost:8080/"
        },
        "id": "2EzEaDjHKAgJ",
        "outputId": "8eaa8412-c749-4ded-cd5e-e862a6411d06"
      },
      "source": [
        "# 객체와 인스턴스의 차이\n",
        "#  a = Cookie() 이렇게 만든 a는 객체이다. \n",
        "# 그리고 a 객체는 Cookie의 인스턴스이다. \n",
        "# 즉 인스턴스라는 말은 특정 객체(a)가 \n",
        "# 어떤 클래스(Cookie)의 객체인지를 \n",
        "# 관계 위주로 설명할 때 사용한다\n",
        "\n",
        "print(\"사칙연산 클래스 만들기\")\n",
        "#######################################\n",
        "# 사칙연산을 가능하게 하는 FourCal 클래스\n",
        "# class FourCal\n",
        "#\n",
        "# Usage:\n",
        "# a = FourCal()\n",
        "# a.setdata(4, 2)\n",
        "# a.add(), a.sub(), a.mul(), a.div()\n",
        "#\n",
        "#######################################\n"
      ],
      "execution_count": 26,
      "outputs": [
        {
          "output_type": "stream",
          "text": [
            "사칙연산 클래스 만들기\n"
          ],
          "name": "stdout"
        }
      ]
    },
    {
      "cell_type": "code",
      "metadata": {
        "colab": {
          "base_uri": "https://localhost:8080/"
        },
        "id": "AsRmVCkPKPiP",
        "outputId": "e381e645-a9ea-439e-c1c1-7bd5c3fa63d9"
      },
      "source": [
        "print(\"1. FourCal 클래스 구조 만들기\")\n",
        "\n",
        "class FourCal:\n",
        "    pass\n",
        "\n",
        "\n",
        "# 객체 만들기\n",
        "a = FourCal()\n",
        "type(a), id(a)\n"
      ],
      "execution_count": 27,
      "outputs": [
        {
          "output_type": "stream",
          "text": [
            "1. FourCal 클래스 구조 만들기\n"
          ],
          "name": "stdout"
        },
        {
          "output_type": "execute_result",
          "data": {
            "text/plain": [
              "(__main__.FourCal, 139946422372304)"
            ]
          },
          "metadata": {
            "tags": []
          },
          "execution_count": 27
        }
      ]
    },
    {
      "cell_type": "code",
      "metadata": {
        "colab": {
          "base_uri": "https://localhost:8080/"
        },
        "id": "6oYayMclKWTm",
        "outputId": "549fe09b-f4fe-42aa-fd8d-1bfc739b89e7"
      },
      "source": [
        "#######################################\n",
        "print(\"2. 객체에 숫자 지정할 수 있게 만들기\")\n",
        "# function setdata()  # method\n",
        "\n",
        "class FourCal:\n",
        "   def setdata(self, first, second):\n",
        "       self.first = first\n",
        "       self.second = second\n",
        "\n"
      ],
      "execution_count": 29,
      "outputs": [
        {
          "output_type": "stream",
          "text": [
            "2. 객체에 숫자 지정할 수 있게 만들기\n"
          ],
          "name": "stdout"
        }
      ]
    },
    {
      "cell_type": "code",
      "metadata": {
        "colab": {
          "base_uri": "https://localhost:8080/"
        },
        "id": "TaA3A5tnKpIu",
        "outputId": "ee481520-c06f-4da3-ca2a-17ad0fc895f0"
      },
      "source": [
        "a = FourCal()\n",
        "a.setdata(4, 2)\n",
        "\n",
        "# 객체 변수\n",
        "a.first    # self.first\n",
        "a.second   # self.second\n",
        "a.first,a.second\n"
      ],
      "execution_count": 31,
      "outputs": [
        {
          "output_type": "execute_result",
          "data": {
            "text/plain": [
              "(4, 2)"
            ]
          },
          "metadata": {
            "tags": []
          },
          "execution_count": 31
        }
      ]
    },
    {
      "cell_type": "code",
      "metadata": {
        "colab": {
          "base_uri": "https://localhost:8080/"
        },
        "id": "zck5lfQIK60m",
        "outputId": "2de1ecec-3418-4a0c-9986-55faaa94b775"
      },
      "source": [
        "# 객체를 이용하기\n",
        "a = FourCal()\n",
        "b = FourCal()\n",
        "\n",
        "print(a is b)\n",
        "\n",
        "type(a), id(a), type(b), id(b)\n",
        "\n",
        "a.setdata(4, 2)\n",
        "print(a.first)\n",
        "b.setdata(3, 7)\n",
        "print(b.first)\n",
        "\n",
        "print(a.first)  # what value?\n",
        "# # a 객체의 first 값은 b 객체의 first 값에 영향받지 않고 원래 값을 유지\n",
        "# # 클래스로 만든 객체의 객체변수는 다른 객체의 객체변수에 상관없이 독립적인 값을 유지\n",
        "\n",
        "id(a.first), id(b.first)\n"
      ],
      "execution_count": 38,
      "outputs": [
        {
          "output_type": "stream",
          "text": [
            "False\n",
            "4\n",
            "3\n",
            "4\n"
          ],
          "name": "stdout"
        },
        {
          "output_type": "execute_result",
          "data": {
            "text/plain": [
              "(94292905290336, 94292905290304)"
            ]
          },
          "metadata": {
            "tags": []
          },
          "execution_count": 38
        }
      ]
    },
    {
      "cell_type": "code",
      "metadata": {
        "colab": {
          "base_uri": "https://localhost:8080/"
        },
        "id": "GNPV9yJcLrA0",
        "outputId": "5d10e963-7d79-4b9e-c9bc-2de7d33eac84"
      },
      "source": [
        "#######################################\n",
        "print(\"3. 더하기 기능 만들기\")\n",
        "# function add()  # method\n",
        "\n",
        "class FourCal:\n",
        "    def setdata(self, first, second):\n",
        "        self.first = first\n",
        "        self.second = second\n",
        "\n",
        "    def add(self):\n",
        "        result = self.first + self.second\n",
        "        return result\n",
        "    \n",
        "\n",
        "a = FourCal()\n",
        "a.setdata(4, 2)\n",
        "a.add()\n"
      ],
      "execution_count": 34,
      "outputs": [
        {
          "output_type": "stream",
          "text": [
            "3. 더하기 기능 만들기\n"
          ],
          "name": "stdout"
        },
        {
          "output_type": "execute_result",
          "data": {
            "text/plain": [
              "6"
            ]
          },
          "metadata": {
            "tags": []
          },
          "execution_count": 34
        }
      ]
    },
    {
      "cell_type": "code",
      "metadata": {
        "colab": {
          "base_uri": "https://localhost:8080/"
        },
        "id": "r6bRsMW7NBmr",
        "outputId": "c35f0542-76c0-4bac-badc-6a3089ee5420"
      },
      "source": [
        "#######################################\n",
        "print(\"4. 곱하기, 빼기, 나누기 기능 추가\")\n",
        "# function sub(), mul(), div()\n",
        "\n",
        "class FourCal:\n",
        "    def setdata(self, first, second):\n",
        "        self.first = first\n",
        "        self.second = second\n",
        "        \n",
        "    def add(self):\n",
        "        result = self.first + self.second\n",
        "        return result\n",
        "\n",
        "    def sub(self):\n",
        "        result = self.first - self.second\n",
        "        return result\n",
        "\n",
        "    def mul(self):\n",
        "        result = self.first * self.second\n",
        "        return result\n",
        "\n",
        "    def div(self):\n",
        "        result = self.first / self.second\n",
        "        return result\n",
        "    \n",
        "\n",
        "  \n",
        "a = FourCal()\n",
        "b = FourCal()\n",
        "\n",
        "a.setdata(4, 2)\n",
        "b.setdata(3, 8)\n",
        "\n",
        "print(a.add(), a.sub(), a.mul(), a.div())\n",
        "b.add(), b.sub(), b.mul(), b.div()\n"
      ],
      "execution_count": 39,
      "outputs": [
        {
          "output_type": "stream",
          "text": [
            "4. 곱하기, 빼기, 나누기 기능 추가\n",
            "6 2 8 2.0\n"
          ],
          "name": "stdout"
        },
        {
          "output_type": "execute_result",
          "data": {
            "text/plain": [
              "(11, -5, 24, 0.375)"
            ]
          },
          "metadata": {
            "tags": []
          },
          "execution_count": 39
        }
      ]
    },
    {
      "cell_type": "markdown",
      "metadata": {
        "id": "IIQKTJ5qNPLC"
      },
      "source": [
        "### 생성자 (Constructor)\n",
        "- 클래스에 \\_\\_init_\\_()로 정의"
      ]
    },
    {
      "cell_type": "code",
      "metadata": {
        "colab": {
          "base_uri": "https://localhost:8080/",
          "height": 352
        },
        "id": "cw6LDSI6N_kZ",
        "outputId": "fe39c7d7-1d36-4137-85f9-2337047ddb96"
      },
      "source": [
        "#######################################\n",
        "print(\"생성자 (Constructor)\")\n",
        "#######################################\n",
        "#\n",
        "# __init__()\n",
        "#\n",
        "\n",
        "a = FourCal()\n",
        "a.add()   #  AttributeError\n"
      ],
      "execution_count": 40,
      "outputs": [
        {
          "output_type": "stream",
          "text": [
            "생성자 (Constructor)\n"
          ],
          "name": "stdout"
        },
        {
          "output_type": "error",
          "ename": "AttributeError",
          "evalue": "ignored",
          "traceback": [
            "\u001b[0;31m---------------------------------------------------------------------------\u001b[0m",
            "\u001b[0;31mAttributeError\u001b[0m                            Traceback (most recent call last)",
            "\u001b[0;32m<ipython-input-40-4977063eedc7>\u001b[0m in \u001b[0;36m<module>\u001b[0;34m()\u001b[0m\n\u001b[1;32m      7\u001b[0m \u001b[0;34m\u001b[0m\u001b[0m\n\u001b[1;32m      8\u001b[0m \u001b[0ma\u001b[0m \u001b[0;34m=\u001b[0m \u001b[0mFourCal\u001b[0m\u001b[0;34m(\u001b[0m\u001b[0;34m)\u001b[0m\u001b[0;34m\u001b[0m\u001b[0;34m\u001b[0m\u001b[0m\n\u001b[0;32m----> 9\u001b[0;31m \u001b[0ma\u001b[0m\u001b[0;34m.\u001b[0m\u001b[0madd\u001b[0m\u001b[0;34m(\u001b[0m\u001b[0;34m)\u001b[0m   \u001b[0;31m#  AttributeError\u001b[0m\u001b[0;34m\u001b[0m\u001b[0;34m\u001b[0m\u001b[0m\n\u001b[0m",
            "\u001b[0;32m<ipython-input-39-3743f3bca89b>\u001b[0m in \u001b[0;36madd\u001b[0;34m(self)\u001b[0m\n\u001b[1;32m      9\u001b[0m \u001b[0;34m\u001b[0m\u001b[0m\n\u001b[1;32m     10\u001b[0m     \u001b[0;32mdef\u001b[0m \u001b[0madd\u001b[0m\u001b[0;34m(\u001b[0m\u001b[0mself\u001b[0m\u001b[0;34m)\u001b[0m\u001b[0;34m:\u001b[0m\u001b[0;34m\u001b[0m\u001b[0;34m\u001b[0m\u001b[0m\n\u001b[0;32m---> 11\u001b[0;31m         \u001b[0mresult\u001b[0m \u001b[0;34m=\u001b[0m \u001b[0mself\u001b[0m\u001b[0;34m.\u001b[0m\u001b[0mfirst\u001b[0m \u001b[0;34m+\u001b[0m \u001b[0mself\u001b[0m\u001b[0;34m.\u001b[0m\u001b[0msecond\u001b[0m\u001b[0;34m\u001b[0m\u001b[0;34m\u001b[0m\u001b[0m\n\u001b[0m\u001b[1;32m     12\u001b[0m         \u001b[0;32mreturn\u001b[0m \u001b[0mresult\u001b[0m\u001b[0;34m\u001b[0m\u001b[0;34m\u001b[0m\u001b[0m\n\u001b[1;32m     13\u001b[0m \u001b[0;34m\u001b[0m\u001b[0m\n",
            "\u001b[0;31mAttributeError\u001b[0m: 'FourCal' object has no attribute 'first'"
          ]
        }
      ]
    },
    {
      "cell_type": "code",
      "metadata": {
        "colab": {
          "base_uri": "https://localhost:8080/"
        },
        "id": "1yrnFeT3Oud4",
        "outputId": "bb3a9b6d-25e1-4513-84f3-dbe25b8eb59c"
      },
      "source": [
        "#######################################\n",
        "class FourCal:\n",
        "    def __init__(self, first, second):\n",
        "        self.first = first\n",
        "        self.second = second\n",
        "\n",
        "    def setdata(self, first, second):\n",
        "        self.first = first\n",
        "        self.second = second\n",
        "        \n",
        "    def add(self):\n",
        "        result = self.first + self.second\n",
        "        return result\n",
        "\n",
        "    def sub(self):\n",
        "        result = self.first - self.second\n",
        "        return result\n",
        "\n",
        "    def mul(self):\n",
        "        result = self.first * self.second\n",
        "        return result\n",
        "\n",
        "    def div(self):\n",
        "        result = self.first / self.second\n",
        "        return result\n",
        "    \n",
        "\n",
        "#######################################\n",
        "\n",
        "#a = FourCal()   # TypeError:\n",
        "\n",
        "a = FourCal(4, 2)\n",
        "a.first, a.second\n",
        "\n",
        "a.mul(),a.div()\n"
      ],
      "execution_count": 44,
      "outputs": [
        {
          "output_type": "execute_result",
          "data": {
            "text/plain": [
              "(8, 2.0)"
            ]
          },
          "metadata": {
            "tags": []
          },
          "execution_count": 44
        }
      ]
    },
    {
      "cell_type": "markdown",
      "metadata": {
        "id": "dVwi64fIPS1t"
      },
      "source": [
        "### 클래스의 상속\n",
        "- FourCal ->MoreFourCal"
      ]
    },
    {
      "cell_type": "code",
      "metadata": {
        "colab": {
          "base_uri": "https://localhost:8080/"
        },
        "id": "jpCRWM4lPndN",
        "outputId": "5ef7de71-d933-4bbd-e0cd-d0e145af20f7"
      },
      "source": [
        "#######################################\n",
        "print(\"클래스의 상속\")\n",
        "# 상속은 기존 클래스를 변경하지 않고 기능을 추가하거나 \n",
        "# 기존 기능을 변경하려고 할 때 사용\n",
        "#######################################\n",
        "# \n",
        "# class 클래스 이름(상속할 클래스 이름)\n",
        "# \n",
        "# 클래스 FourCal를 상속하는 \n",
        "# class MoreFourCal\n",
        "# FourCal 클래스에 a^b (a의 b제곱)을 구할 수 있는 기능을 추가\n",
        "#\n",
        "\n",
        "class MoreFourCal(FourCal):\n",
        "    pass\n",
        "\n",
        "\n",
        "a = MoreFourCal(4, 2)\n",
        "a.add(), a.mul()"
      ],
      "execution_count": 45,
      "outputs": [
        {
          "output_type": "stream",
          "text": [
            "클래스의 상속\n"
          ],
          "name": "stdout"
        },
        {
          "output_type": "execute_result",
          "data": {
            "text/plain": [
              "(6, 8)"
            ]
          },
          "metadata": {
            "tags": []
          },
          "execution_count": 45
        }
      ]
    },
    {
      "cell_type": "markdown",
      "metadata": {
        "id": "3ElVlxVAPua9"
      },
      "source": [
        "### MoreFourCal\n",
        "> 지수 계산 기능을 추가한 클래스"
      ]
    },
    {
      "cell_type": "code",
      "metadata": {
        "colab": {
          "base_uri": "https://localhost:8080/"
        },
        "id": "e5NngMtAP3wE",
        "outputId": "f06b14a4-bf5f-46ab-decd-9bf80ece0aa6"
      },
      "source": [
        "class MoreFourCal(FourCal):\n",
        "    def pow(self):\n",
        "        result = self.first ** self.second\n",
        "        return result\n",
        "    \n",
        "\n",
        "a = MoreFourCal(4, 2)\n",
        "print(a.add(), a.mul())\n",
        "\n",
        "a.pow()\n",
        "\n",
        "# 상속은 MoreFourCal 클래스처럼 기존 클래스(FourCal)는 \n",
        "# 그대로 놔둔 채 클래스의 기능을 확장시킬 때 주로 사용.\n"
      ],
      "execution_count": 46,
      "outputs": [
        {
          "output_type": "stream",
          "text": [
            "6 8\n"
          ],
          "name": "stdout"
        },
        {
          "output_type": "execute_result",
          "data": {
            "text/plain": [
              "16"
            ]
          },
          "metadata": {
            "tags": []
          },
          "execution_count": 46
        }
      ]
    },
    {
      "cell_type": "markdown",
      "metadata": {
        "id": "aGFRuHb4QBsY"
      },
      "source": [
        "### 메서드 오버라이딩 (재정의)\n"
      ]
    },
    {
      "cell_type": "code",
      "metadata": {
        "colab": {
          "base_uri": "https://localhost:8080/",
          "height": 352
        },
        "id": "dia3MGVzQN0r",
        "outputId": "49a707fa-119c-40e9-a00d-07a98bf26114"
      },
      "source": [
        "#######################################\n",
        "print(\"메서드 오버라이딩\")\n",
        "# 기존의 함수(메소드)를 수정/보완하여 재정의\n",
        "#######################################\n",
        "# \n",
        "a = FourCal(4, 0)\n",
        "a.div()  # ZeroDivisionError:\n"
      ],
      "execution_count": 47,
      "outputs": [
        {
          "output_type": "stream",
          "text": [
            "메서드 오버라이딩\n"
          ],
          "name": "stdout"
        },
        {
          "output_type": "error",
          "ename": "ZeroDivisionError",
          "evalue": "ignored",
          "traceback": [
            "\u001b[0;31m---------------------------------------------------------------------------\u001b[0m",
            "\u001b[0;31mZeroDivisionError\u001b[0m                         Traceback (most recent call last)",
            "\u001b[0;32m<ipython-input-47-c9ccbdaaffb6>\u001b[0m in \u001b[0;36m<module>\u001b[0;34m()\u001b[0m\n\u001b[1;32m      5\u001b[0m \u001b[0;31m#\u001b[0m\u001b[0;34m\u001b[0m\u001b[0;34m\u001b[0m\u001b[0;34m\u001b[0m\u001b[0m\n\u001b[1;32m      6\u001b[0m \u001b[0ma\u001b[0m \u001b[0;34m=\u001b[0m \u001b[0mFourCal\u001b[0m\u001b[0;34m(\u001b[0m\u001b[0;36m4\u001b[0m\u001b[0;34m,\u001b[0m \u001b[0;36m0\u001b[0m\u001b[0;34m)\u001b[0m\u001b[0;34m\u001b[0m\u001b[0;34m\u001b[0m\u001b[0m\n\u001b[0;32m----> 7\u001b[0;31m \u001b[0ma\u001b[0m\u001b[0;34m.\u001b[0m\u001b[0mdiv\u001b[0m\u001b[0;34m(\u001b[0m\u001b[0;34m)\u001b[0m  \u001b[0;31m# ZeroDivisionError:\u001b[0m\u001b[0;34m\u001b[0m\u001b[0;34m\u001b[0m\u001b[0m\n\u001b[0m",
            "\u001b[0;32m<ipython-input-44-f81db198a82f>\u001b[0m in \u001b[0;36mdiv\u001b[0;34m(self)\u001b[0m\n\u001b[1;32m     22\u001b[0m \u001b[0;34m\u001b[0m\u001b[0m\n\u001b[1;32m     23\u001b[0m     \u001b[0;32mdef\u001b[0m \u001b[0mdiv\u001b[0m\u001b[0;34m(\u001b[0m\u001b[0mself\u001b[0m\u001b[0;34m)\u001b[0m\u001b[0;34m:\u001b[0m\u001b[0;34m\u001b[0m\u001b[0;34m\u001b[0m\u001b[0m\n\u001b[0;32m---> 24\u001b[0;31m         \u001b[0mresult\u001b[0m \u001b[0;34m=\u001b[0m \u001b[0mself\u001b[0m\u001b[0;34m.\u001b[0m\u001b[0mfirst\u001b[0m \u001b[0;34m/\u001b[0m \u001b[0mself\u001b[0m\u001b[0;34m.\u001b[0m\u001b[0msecond\u001b[0m\u001b[0;34m\u001b[0m\u001b[0;34m\u001b[0m\u001b[0m\n\u001b[0m\u001b[1;32m     25\u001b[0m         \u001b[0;32mreturn\u001b[0m \u001b[0mresult\u001b[0m\u001b[0;34m\u001b[0m\u001b[0;34m\u001b[0m\u001b[0m\n\u001b[1;32m     26\u001b[0m \u001b[0;34m\u001b[0m\u001b[0m\n",
            "\u001b[0;31mZeroDivisionError\u001b[0m: division by zero"
          ]
        }
      ]
    },
    {
      "cell_type": "code",
      "metadata": {
        "colab": {
          "base_uri": "https://localhost:8080/"
        },
        "id": "nrnC-v2iQaYL",
        "outputId": "5e77b928-d4bd-45ec-f705-ade8d6a57fc8"
      },
      "source": [
        "# 메서드 오버라이딩 (Overriding)\n",
        "class SafeFourCal(FourCal):\n",
        "    def div(self):\n",
        "        if self.second == 0:  # 나누는 값이 0인 경우 0을 리턴하도록 수정\n",
        "            print(\"분모는 0을 사용할 수 없다.\")\n",
        "            return 0\n",
        "        else:\n",
        "            return self.first / self.second\n",
        "    \n",
        "\n",
        "\n",
        "a = SafeFourCal(4, 0)\n",
        "a.div()  # 메서드 오버라이딩 사용\n"
      ],
      "execution_count": 48,
      "outputs": [
        {
          "output_type": "stream",
          "text": [
            "분모는 0을 사용할 수 없다.\n"
          ],
          "name": "stdout"
        },
        {
          "output_type": "execute_result",
          "data": {
            "text/plain": [
              "0"
            ]
          },
          "metadata": {
            "tags": []
          },
          "execution_count": 48
        }
      ]
    },
    {
      "cell_type": "code",
      "metadata": {
        "colab": {
          "base_uri": "https://localhost:8080/"
        },
        "id": "JFphrnUkQfQy",
        "outputId": "ad923963-d9e6-425e-8109-612133f1e18b"
      },
      "source": [
        "b = SafeFourCal(4,2)\n",
        "b.div()"
      ],
      "execution_count": 49,
      "outputs": [
        {
          "output_type": "execute_result",
          "data": {
            "text/plain": [
              "2.0"
            ]
          },
          "metadata": {
            "tags": []
          },
          "execution_count": 49
        }
      ]
    },
    {
      "cell_type": "markdown",
      "metadata": {
        "id": "ah8o-9urQwKc"
      },
      "source": [
        "### 클래스 변수"
      ]
    },
    {
      "cell_type": "code",
      "metadata": {
        "colab": {
          "base_uri": "https://localhost:8080/"
        },
        "id": "jhMr8B-EQ2SC",
        "outputId": "f6a63044-88ca-4ae9-db4c-78b2dee0f39d"
      },
      "source": [
        "#######################################\n",
        "print(\"클래스 변수\")\n",
        "# 객체변수와 클래스변수의 차이?\n",
        "# 객체변수   :   객체.변수\n",
        "# 클래스변수 : 클래스.변수\n",
        "#######################################\n",
        "# \n",
        "class Family:\n",
        "    lastname = \"김\"   # 클래스변수\n",
        "\n"
      ],
      "execution_count": 50,
      "outputs": [
        {
          "output_type": "stream",
          "text": [
            "클래스 변수\n"
          ],
          "name": "stdout"
        }
      ]
    },
    {
      "cell_type": "code",
      "metadata": {
        "colab": {
          "base_uri": "https://localhost:8080/"
        },
        "id": "wKrwcbt5Q8JS",
        "outputId": "8e59e9c9-f415-4096-d589-d6379711cb0f"
      },
      "source": [
        "# 클래스이름.클래스 변수로 사용\n",
        "Family.lastname\n",
        "\n",
        "# 객체변수로 접근\n",
        "a = Family()\n",
        "b = Family()\n",
        "\n",
        "print(a.lastname)\n",
        "print(b.lastname)\n",
        "id(a.lastname), id(b.lastname)\n"
      ],
      "execution_count": 51,
      "outputs": [
        {
          "output_type": "stream",
          "text": [
            "김\n",
            "김\n"
          ],
          "name": "stdout"
        },
        {
          "output_type": "execute_result",
          "data": {
            "text/plain": [
              "(139946490747920, 139946490747920)"
            ]
          },
          "metadata": {
            "tags": []
          },
          "execution_count": 51
        }
      ]
    },
    {
      "cell_type": "code",
      "metadata": {
        "colab": {
          "base_uri": "https://localhost:8080/",
          "height": 35
        },
        "id": "X0BGD71NRFf6",
        "outputId": "f76503fa-1a1b-4a9c-98ce-c0cfdea6ce3e"
      },
      "source": [
        "# 클래스이름.클래스 변수로 사용\n",
        "Family.lastname  # 객체를 통하지 않고 바로 접근"
      ],
      "execution_count": 52,
      "outputs": [
        {
          "output_type": "execute_result",
          "data": {
            "application/vnd.google.colaboratory.intrinsic+json": {
              "type": "string"
            },
            "text/plain": [
              "'김'"
            ]
          },
          "metadata": {
            "tags": []
          },
          "execution_count": 52
        }
      ]
    },
    {
      "cell_type": "code",
      "metadata": {
        "colab": {
          "base_uri": "https://localhost:8080/"
        },
        "id": "3NSNefD-RMcT",
        "outputId": "d3f43207-4df3-4db5-a2a4-414b3b7e2089"
      },
      "source": [
        "# 객체변수로 접근\n",
        "a = Family()\n",
        "b = Family()\n",
        "\n",
        "print(a.lastname)\n",
        "print(b.lastname)\n",
        "id(a.lastname), id(b.lastname), id(a.lastname)==id(b.lastname)\n"
      ],
      "execution_count": 54,
      "outputs": [
        {
          "output_type": "stream",
          "text": [
            "김\n",
            "김\n"
          ],
          "name": "stdout"
        },
        {
          "output_type": "execute_result",
          "data": {
            "text/plain": [
              "(139946490747920, 139946490747920, True)"
            ]
          },
          "metadata": {
            "tags": []
          },
          "execution_count": 54
        }
      ]
    },
    {
      "cell_type": "code",
      "metadata": {
        "colab": {
          "base_uri": "https://localhost:8080/"
        },
        "id": "d8U4UEbCRe3K",
        "outputId": "1b7115f3-180d-4a48-ae8e-792aa92c415b"
      },
      "source": [
        "# 클래스변수를 변경하면?\n",
        "Family.lastname = \"박\"\n",
        "\n",
        "print(a.lastname)\n",
        "print(b.lastname)\n",
        "id(a.lastname), id(b.lastname), id(Family.lastname)\n",
        "# 클래스 변수가 공유됨을 확인.\n"
      ],
      "execution_count": 55,
      "outputs": [
        {
          "output_type": "stream",
          "text": [
            "박\n",
            "박\n"
          ],
          "name": "stdout"
        },
        {
          "output_type": "execute_result",
          "data": {
            "text/plain": [
              "(139946491603664, 139946491603664, 139946491603664)"
            ]
          },
          "metadata": {
            "tags": []
          },
          "execution_count": 55
        }
      ]
    },
    {
      "cell_type": "code",
      "metadata": {
        "id": "hXPcvn1CtW6z",
        "colab": {
          "base_uri": "https://localhost:8080/"
        },
        "outputId": "5c516504-ee8d-4745-d005-f10e38e1ee66"
      },
      "source": [
        "# 객체변수를 변경하면?\n",
        "a.lastname = \"이\"\n",
        "print(a.lastname, b.lastname, Family.lastname)\n",
        "id(a.lastname), id(b.lastname), id(Family.lastname)\n",
        "\n",
        "# 실무 프로그래밍에는 클래스 변수보다는 객체변수를 많이 사용.\n"
      ],
      "execution_count": 57,
      "outputs": [
        {
          "output_type": "stream",
          "text": [
            "이 박 박\n"
          ],
          "name": "stdout"
        },
        {
          "output_type": "execute_result",
          "data": {
            "text/plain": [
              "(139946490748160, 139946491603664, 139946491603664)"
            ]
          },
          "metadata": {
            "tags": []
          },
          "execution_count": 57
        }
      ]
    },
    {
      "cell_type": "markdown",
      "metadata": {
        "id": "RLx0cQvGRyTq"
      },
      "source": [
        "### 모듈(module)"
      ]
    },
    {
      "cell_type": "markdown",
      "metadata": {
        "id": "InFiozTjVOrv"
      },
      "source": [
        "- 모듈\n",
        "   - 모듈 만들기\n",
        "   - 모듈 불러오기\n",
        "   - if __name__ == \"__main__\": 의 의미\n",
        "   - 클래스나 변수 등을 포함한 모듈\n",
        "   - 다른 파일에서 모듈 불러오기"
      ]
    },
    {
      "cell_type": "code",
      "metadata": {
        "colab": {
          "base_uri": "https://localhost:8080/"
        },
        "id": "xOdXuMR_R4bC",
        "outputId": "d8662216-aeea-4d8a-e3d0-4aa684427860"
      },
      "source": [
        "# ch5_02_module.py\n",
        "#\n",
        "print(\"모듈이란 무엇인가?\")\n",
        "#######################################\n",
        "# 모듈이란 함수나 변수 또는 클래스를 모아 놓은 파이썬 파일\n",
        "#######################################\n"
      ],
      "execution_count": 58,
      "outputs": [
        {
          "output_type": "stream",
          "text": [
            "모듈이란 무엇인가?\n"
          ],
          "name": "stdout"
        }
      ]
    },
    {
      "cell_type": "markdown",
      "metadata": {
        "id": "RofRp5_cSE6P"
      },
      "source": [
        "### 모듈 만들기"
      ]
    },
    {
      "cell_type": "code",
      "metadata": {
        "colab": {
          "base_uri": "https://localhost:8080/",
          "height": 53
        },
        "id": "8I1K1Zr2SITY",
        "outputId": "5f0c6758-4d18-4177-99a2-0a149fe79de3"
      },
      "source": [
        "print(\"모듈 만들기\")\n",
        "#######################################\n",
        "# 간단한 모듈을 한번 만들어 보자.\n",
        "#######################################\n",
        "# \n",
        "\n",
        "# mod1.py를 현재 폴더에 저장\n",
        "'''\n",
        "# mod1.py\n",
        "def add(a, b):\n",
        "    return a + b\n",
        "def sub(a, b): \n",
        "    return a-b\n",
        "'''\n",
        "\n",
        "# 파이썬 확장자 .py로 만든 파이썬 파일은 모두 모듈이다.\n"
      ],
      "execution_count": 63,
      "outputs": [
        {
          "output_type": "stream",
          "text": [
            "모듈 만들기\n"
          ],
          "name": "stdout"
        },
        {
          "output_type": "execute_result",
          "data": {
            "application/vnd.google.colaboratory.intrinsic+json": {
              "type": "string"
            },
            "text/plain": [
              "'\\n# mod1.py\\ndef add(a, b):\\n    return a + b\\ndef sub(a, b): \\n    return a-b\\n'"
            ]
          },
          "metadata": {
            "tags": []
          },
          "execution_count": 63
        }
      ]
    },
    {
      "cell_type": "markdown",
      "metadata": {
        "id": "bZJyPyqxSMio"
      },
      "source": [
        "### 모듈 불러오기\n",
        "- import *.py"
      ]
    },
    {
      "cell_type": "code",
      "metadata": {
        "colab": {
          "base_uri": "https://localhost:8080/"
        },
        "id": "U6dr1iuKSgug",
        "outputId": "3743a076-e195-4b65-e20a-423030e4e1be"
      },
      "source": [
        "print(\"모듈 불러오기\")\n",
        "#######################################\n",
        "# import 모듈명\n",
        "# import는 이미 만들어 놓은 파이썬 모듈을 사용할 수 있게 해주는 명령어\n",
        "#######################################\n",
        "# \n",
        "# 현재 폴더에 있는 모듈, mod1.py를 연결하기.\n",
        "#\n",
        "import mod1\n",
        "\n",
        "print(mod1.add(3, 4))\n",
        "\n",
        "print(mod1.sub(7, 2))\n"
      ],
      "execution_count": 64,
      "outputs": [
        {
          "output_type": "stream",
          "text": [
            "모듈 불러오기\n",
            "7\n",
            "5\n"
          ],
          "name": "stdout"
        }
      ]
    },
    {
      "cell_type": "code",
      "metadata": {
        "colab": {
          "base_uri": "https://localhost:8080/"
        },
        "id": "X97z6_vSTUPv",
        "outputId": "91c0abea-9dba-4f5a-fac2-6889940c7955"
      },
      "source": [
        "#######################################\n",
        "# 모듈 내부 함수 이용\n",
        "# from 모듈이름 import 모듈함수\n",
        "#######################################\n",
        "#\n",
        "from mod1 import add\n",
        "add(3, 4)\n"
      ],
      "execution_count": 65,
      "outputs": [
        {
          "output_type": "execute_result",
          "data": {
            "text/plain": [
              "7"
            ]
          },
          "metadata": {
            "tags": []
          },
          "execution_count": 65
        }
      ]
    },
    {
      "cell_type": "code",
      "metadata": {
        "colab": {
          "base_uri": "https://localhost:8080/"
        },
        "id": "5oFNRO94Tf0N",
        "outputId": "5efb2bc1-9d58-4199-f1f9-de9bf87c1194"
      },
      "source": [
        "from mod1 import *\n",
        "add(10,20),sub(10,20)"
      ],
      "execution_count": 66,
      "outputs": [
        {
          "output_type": "execute_result",
          "data": {
            "text/plain": [
              "(30, -10)"
            ]
          },
          "metadata": {
            "tags": []
          },
          "execution_count": 66
        }
      ]
    },
    {
      "cell_type": "code",
      "metadata": {
        "colab": {
          "base_uri": "https://localhost:8080/"
        },
        "id": "OomqTH9aTqdp",
        "outputId": "7b0cb220-92aa-4637-b131-2d6fe1e03df0"
      },
      "source": [
        "# from 모듈이름 import *\n",
        "# from mod1 import add, sub\n",
        "from mod1 import *\n",
        "\n",
        "add(3, 4)\n",
        "sub(7, 3)\n"
      ],
      "execution_count": 67,
      "outputs": [
        {
          "output_type": "execute_result",
          "data": {
            "text/plain": [
              "4"
            ]
          },
          "metadata": {
            "tags": []
          },
          "execution_count": 67
        }
      ]
    },
    {
      "cell_type": "code",
      "metadata": {
        "id": "-Gx8LtlsTwBk"
      },
      "source": [
        "print(\"if __name__ == \"__main__\": 의 의미\")\n",
        "#######################################\n",
        "# import 모듈명\n",
        "# import는 이미 만들어 놓은 파이썬 모듈을 \n",
        "# 사용할 수 있게 해주는 명령어\n",
        "#######################################\n",
        "# \n",
        "\n",
        "# mod1.py 파일을 다음과 같이 변경해 보자.\n",
        "'''\n",
        "# mod1.py \n",
        "def add(a, b): \n",
        "    return a+b\n",
        "def sub(a, b): \n",
        "    return a-b\n",
        "print(add(1, 4))\n",
        "print(sub(4, 2))\n",
        "'''\n",
        "\n",
        "###################################\n",
        "# cmd에서 실행하시오.\n",
        "# python mod1.py\n",
        "###################################\n",
        "'''\n",
        "python mod1.py\n",
        "5\n",
        "2\n",
        "'''"
      ],
      "execution_count": null,
      "outputs": []
    },
    {
      "cell_type": "code",
      "metadata": {
        "colab": {
          "base_uri": "https://localhost:8080/"
        },
        "id": "GKWv-ZGNUFdu",
        "outputId": "3026ffa0-6a04-4c27-a7aa-602743aec2e2"
      },
      "source": [
        "run mod1.py"
      ],
      "execution_count": 71,
      "outputs": [
        {
          "output_type": "stream",
          "text": [
            "5\n",
            "2\n"
          ],
          "name": "stdout"
        }
      ]
    },
    {
      "cell_type": "code",
      "metadata": {
        "colab": {
          "base_uri": "https://localhost:8080/"
        },
        "id": "M0NUtusVUSc9",
        "outputId": "0dae5aed-5439-4be1-f7bc-b4686ec7c75b"
      },
      "source": [
        "import mod1\n",
        "# 5\n",
        "# 2\n",
        "print(__name__)\n"
      ],
      "execution_count": 72,
      "outputs": [
        {
          "output_type": "stream",
          "text": [
            "__main__\n"
          ],
          "name": "stdout"
        }
      ]
    },
    {
      "cell_type": "code",
      "metadata": {
        "colab": {
          "base_uri": "https://localhost:8080/"
        },
        "id": "HrYlfjz2UYK_",
        "outputId": "c685751e-dadf-4d82-c613-b548e9d81dc3"
      },
      "source": [
        "'''\n",
        "# mod2.py \n",
        "def add(a, b): \n",
        "    return a+b\n",
        "def sub(a, b): \n",
        "    return a-b\n",
        "if __name__ == \"__main__\":\n",
        "    print(add(1, 4))\n",
        "    print(sub(4, 2))\n",
        "'''\n",
        "\n",
        "import mod2\n",
        "print(__name__)\n",
        "# if __name__ == \"__main__\"을 사용하면 C:\\doit>python mod1.py처럼 \n",
        "# 직접 이 파일을 실행했을 때는 __name__ == \"__main__\"이 참이 되어 \n",
        "# if문 다음 문장이 수행된다. \n",
        "# 반대로 대화형 인터프리터나 다른 파일에서 이 모듈을 불러서 사용할 때는 \n",
        "# __name__ == \"__main__\"이 거짓이 되어 if문 다음 문장이 수행되지 않는다.\n",
        "#\n"
      ],
      "execution_count": 74,
      "outputs": [
        {
          "output_type": "stream",
          "text": [
            "__main__\n"
          ],
          "name": "stdout"
        }
      ]
    },
    {
      "cell_type": "code",
      "metadata": {
        "colab": {
          "base_uri": "https://localhost:8080/"
        },
        "id": "lCb-d2xMUut7",
        "outputId": "a48ce51e-484e-46fb-8699-69e0a719aa4f"
      },
      "source": [
        "run mod2.py"
      ],
      "execution_count": 75,
      "outputs": [
        {
          "output_type": "stream",
          "text": [
            "5\n",
            "2\n"
          ],
          "name": "stdout"
        }
      ]
    },
    {
      "cell_type": "code",
      "metadata": {
        "colab": {
          "base_uri": "https://localhost:8080/"
        },
        "id": "ZDM61U0PUxtr",
        "outputId": "dec07c3d-0471-4773-a97a-9c4eb6462978"
      },
      "source": [
        "!python mod2.py"
      ],
      "execution_count": 76,
      "outputs": [
        {
          "output_type": "stream",
          "text": [
            "5\n",
            "2\n"
          ],
          "name": "stdout"
        }
      ]
    },
    {
      "cell_type": "markdown",
      "metadata": {
        "id": "GBbJt5GNVO96"
      },
      "source": [
        "## 12주에 계속"
      ]
    },
    {
      "cell_type": "markdown",
      "metadata": {
        "id": "qvrS0BOwV9ZT"
      },
      "source": [
        "### 모듈 확장\n",
        "- 함수\n",
        "- 변수\n",
        "- 클래스"
      ]
    },
    {
      "cell_type": "code",
      "metadata": {
        "id": "PExYI1tbWLi5"
      },
      "source": [
        "print(\"클래스나 변수 등을 포함한 모듈\")\n",
        "#######################################\n",
        "# 클래스나 변수 등을 포함하는 모듈\n",
        "#######################################\n",
        "# \n",
        "'''\n",
        "# mod3.py \n",
        "PI = 3.141592\n",
        "class Math: \n",
        "    def solv(self, r): \n",
        "        return PI * (r ** 2) \n",
        "def add(a, b): \n",
        "    return a+b \n",
        "'''\n"
      ],
      "execution_count": null,
      "outputs": []
    },
    {
      "cell_type": "code",
      "metadata": {
        "colab": {
          "base_uri": "https://localhost:8080/"
        },
        "id": "IVEVO5OPWRNw",
        "outputId": "f2c6abda-12a4-4544-bb4b-8fe48c6f3c6e"
      },
      "source": [
        "import mod3\n",
        "\n",
        "print(mod3.PI)\n",
        "\n",
        "a = mod3.Math()\n",
        "print(a.solv(2))\n",
        "\n",
        "print(mod3.add(mod3.PI, 4.4))"
      ],
      "execution_count": 79,
      "outputs": [
        {
          "output_type": "stream",
          "text": [
            "3.141592\n",
            "12.566368\n",
            "7.5415920000000005\n"
          ],
          "name": "stdout"
        }
      ]
    },
    {
      "cell_type": "markdown",
      "metadata": {
        "id": "-y8SCdWEWmiL"
      },
      "source": [
        "### 다른 파일에서 모듈 불러오기"
      ]
    },
    {
      "cell_type": "code",
      "metadata": {
        "id": "QW4Bfx1OWq13"
      },
      "source": [
        "print(\"다른 파일에서 모듈 불러오기\")\n",
        "#######################################\n",
        "# 다른 파이썬 파일에서 이전에 만들어 놓은 \n",
        "# 모듈을 불러와서 사용하는 방법\n",
        "#######################################\n",
        "# \n",
        "'''\n",
        "# modtest.py\n",
        "import mod2\n",
        "result = mod2.add(3, 4)\n",
        "print(result)\n",
        "'''\n",
        "###################################\n",
        "# cmd에서 실행하시오.\n",
        "# python modtest.py\n",
        "\n"
      ],
      "execution_count": null,
      "outputs": []
    },
    {
      "cell_type": "code",
      "metadata": {
        "colab": {
          "base_uri": "https://localhost:8080/"
        },
        "id": "iV6eOAkWW1ve",
        "outputId": "b2227f4b-ee3d-41a4-c6e2-6e9533f6f20f"
      },
      "source": [
        "run modtest.py"
      ],
      "execution_count": 85,
      "outputs": [
        {
          "output_type": "stream",
          "text": [
            "7\n"
          ],
          "name": "stdout"
        }
      ]
    },
    {
      "cell_type": "markdown",
      "metadata": {
        "id": "1eC3VKzcXoJv"
      },
      "source": [
        "### 내장 모듈 사용해보기\n",
        "- sys"
      ]
    },
    {
      "cell_type": "code",
      "metadata": {
        "id": "-1H6FtDIVauP",
        "colab": {
          "base_uri": "https://localhost:8080/"
        },
        "outputId": "6923e3f9-684e-4414-c001-e5c4d78efc49"
      },
      "source": [
        "###################################\n",
        "# 참고: 현재 폴더로 경로 설정 (path)\n",
        "import sys\n",
        "sys.path.append(\"d:/mydir\")\n",
        "sys.path\n",
        "\n"
      ],
      "execution_count": 89,
      "outputs": [
        {
          "output_type": "execute_result",
          "data": {
            "text/plain": [
              "['',\n",
              " '/content',\n",
              " '/env/python',\n",
              " '/usr/lib/python37.zip',\n",
              " '/usr/lib/python3.7',\n",
              " '/usr/lib/python3.7/lib-dynload',\n",
              " '/usr/local/lib/python3.7/dist-packages',\n",
              " '/usr/lib/python3/dist-packages',\n",
              " '/usr/local/lib/python3.7/dist-packages/IPython/extensions',\n",
              " '/root/.ipython',\n",
              " 'current_path',\n",
              " 'd:/mydir']"
            ]
          },
          "metadata": {
            "tags": []
          },
          "execution_count": 89
        }
      ]
    },
    {
      "cell_type": "code",
      "metadata": {
        "colab": {
          "base_uri": "https://localhost:8080/"
        },
        "id": "jboa9n4SYPse",
        "outputId": "ef72d2b3-ad1f-45df-8afa-a8414561fa07"
      },
      "source": [
        "sys.path.append(\"./sample_data\")\n",
        "sys.path\n"
      ],
      "execution_count": 90,
      "outputs": [
        {
          "output_type": "execute_result",
          "data": {
            "text/plain": [
              "['',\n",
              " '/content',\n",
              " '/env/python',\n",
              " '/usr/lib/python37.zip',\n",
              " '/usr/lib/python3.7',\n",
              " '/usr/lib/python3.7/lib-dynload',\n",
              " '/usr/local/lib/python3.7/dist-packages',\n",
              " '/usr/lib/python3/dist-packages',\n",
              " '/usr/local/lib/python3.7/dist-packages/IPython/extensions',\n",
              " '/root/.ipython',\n",
              " 'current_path',\n",
              " 'd:/mydir',\n",
              " './sample_data']"
            ]
          },
          "metadata": {
            "tags": []
          },
          "execution_count": 90
        }
      ]
    },
    {
      "cell_type": "markdown",
      "metadata": {
        "id": "DFZHMh5pVq82"
      },
      "source": [
        "- 패키지\n",
        "   - 패키지란 무엇인가?\n",
        "   - 패키지 만들기\n",
        "   - 패키지 안의 함수 실행하기\n",
        "   - __init__.py 의 용도\n",
        "   - relative 패키지"
      ]
    },
    {
      "cell_type": "code",
      "metadata": {
        "id": "hxQkWQElYa9s"
      },
      "source": [
        "# ch5_03_package.py\n",
        "#\n",
        "print(\"패키지란 무엇인가?\")\n",
        "#######################################\n",
        "# 파이썬 모듈들을 모아놓은 폴더로 구성\n",
        "# 유사한 기능을 가진 모듈들을 묶어서 구성\n",
        "#######################################\n",
        "#\n",
        "# 가상의 game 패키지 예\n",
        "#\n",
        "\"\"\"\n",
        "game/\n",
        "    __init__.py\n",
        "    sound/\n",
        "        __init__.py\n",
        "        echo.py\n",
        "        wav.py\n",
        "    graphic/\n",
        "        __init__.py\n",
        "        screen.py\n",
        "        render.py\n",
        "    play/\n",
        "        __init__.py\n",
        "        run.py\n",
        "        test.py\n",
        "\"\"\"\n",
        "# game 디렉터리가 이 패키지의 루트 디렉터리이고\n",
        "# sound, graphic, play는 서브 디렉터리이다.\n"
      ],
      "execution_count": null,
      "outputs": []
    },
    {
      "cell_type": "code",
      "metadata": {
        "colab": {
          "base_uri": "https://localhost:8080/"
        },
        "id": "OA-V311TYe79",
        "outputId": "8f08937a-e10f-4517-c455-abd482d6a11b"
      },
      "source": [
        "!cd('/content')"
      ],
      "execution_count": 92,
      "outputs": [
        {
          "output_type": "stream",
          "text": [
            "/bin/bash: -c: line 0: syntax error near unexpected token `'/content''\n",
            "/bin/bash: -c: line 0: `cd('/content')'\n"
          ],
          "name": "stdout"
        }
      ]
    },
    {
      "cell_type": "code",
      "metadata": {
        "colab": {
          "base_uri": "https://localhost:8080/",
          "height": 35
        },
        "id": "jH0PYGs_Yn30",
        "outputId": "c3acb58b-96b1-48cc-e619-5eeba6f14644"
      },
      "source": [
        "import os\n",
        "os.getcwd()"
      ],
      "execution_count": 93,
      "outputs": [
        {
          "output_type": "execute_result",
          "data": {
            "application/vnd.google.colaboratory.intrinsic+json": {
              "type": "string"
            },
            "text/plain": [
              "'/content'"
            ]
          },
          "metadata": {
            "tags": []
          },
          "execution_count": 93
        }
      ]
    },
    {
      "cell_type": "code",
      "metadata": {
        "id": "QFa4sG1xYuUJ"
      },
      "source": [
        "print(\"패키지 만들기\")\n",
        "#######################################\n",
        "# 패키지 기본 구성 요소 준비하기\n",
        "#######################################\n",
        "# 1. 루트폴더, 서버폴더 만들기\n",
        "# 2. *.py 소스파일 준비\n",
        "\n",
        "#\n",
        "# 1. 루트폴더, 서버폴더 만들기\n",
        "\"\"\"\n",
        "./game/__init__.py\n",
        "./game/sound/__init__.py\n",
        "./game/sound/echo.py\n",
        "./game/graphic/__init__.py\n",
        "./game/graphic/render.py\n",
        "\"\"\"\n",
        "\n",
        "#\n",
        "# 2. *.py 소스파일 준비\n",
        "\"\"\"\n",
        "각 디렉터리에 __init__.py 파일을 만들어 놓기만 하고 \n",
        "내용은 일단 비워 둔다.\n",
        "# echo.py\n",
        "def echo_test():\n",
        "    print (\"echo\")\n",
        "# render.py\n",
        "def render_test():\n",
        "    print (\"render\")\n",
        "\"\"\"\n",
        "# 현재 폴더 내에 game 폴더가 포함됨.\n",
        "#"
      ],
      "execution_count": null,
      "outputs": []
    },
    {
      "cell_type": "markdown",
      "metadata": {
        "id": "a8XNjnJXYzW7"
      },
      "source": [
        "### 패키지 안의 함수 실행하기"
      ]
    },
    {
      "cell_type": "code",
      "metadata": {
        "id": "px-TjSXFY38j"
      },
      "source": [
        "print(\"패키지 안의 함수 실행하기\")\n",
        "#######################################\n",
        "# package를 import하여 내부 함수 실행\n",
        "#######################################\n",
        "#\n",
        "# 1. echo 모듈을 import하여 실행\n",
        "import game.sound.echo\n",
        "\n",
        "game.sound.echo.echo_test()\n"
      ],
      "execution_count": null,
      "outputs": []
    },
    {
      "cell_type": "code",
      "metadata": {
        "id": "o92MP7tfbf2_"
      },
      "source": [
        "# 2. echo 모듈이 있는 디렉터리까지를 from ... import하여 실행\n",
        "from game.sound import echo\n",
        "\n",
        "echo.echo_test()"
      ],
      "execution_count": null,
      "outputs": []
    },
    {
      "cell_type": "code",
      "metadata": {
        "id": "tFzYRBJzbobY"
      },
      "source": [
        "# 3. echo 모듈의 eco_test 함수를 직접 import하여 실행\n",
        "from game.sound.echo import echo_test\n",
        "\n",
        "echo_test()"
      ],
      "execution_count": null,
      "outputs": []
    },
    {
      "cell_type": "code",
      "metadata": {
        "id": "VMWC09Fkb_-F"
      },
      "source": [
        "#\n",
        "# 다음과 같이 echo_test 함수를 사용하는 것은 불가능\n",
        "import game\n",
        "\n",
        "game.sound.echo.echo_test()\n",
        "\n",
        "import game.sound.echo.echo_test  # ModuleNotFoundError:"
      ],
      "execution_count": null,
      "outputs": []
    },
    {
      "cell_type": "markdown",
      "metadata": {
        "id": "lj7Dec-xcHr9"
      },
      "source": [
        "### \\_\\_init_\\_\\.py 의 용도"
      ]
    },
    {
      "cell_type": "code",
      "metadata": {
        "id": "MqX1qC8Bcs1d"
      },
      "source": [
        "print(\"__init__.py 의 용도\")\n",
        "#######################################\n",
        "# __init__.py 파일은 해당 디렉터리가 패키지의 일부임을 알려주는 역할\n",
        "# 만약 game, sound, graphic 등 패키지에 포함된 디렉터리에\n",
        "# __init__.py 파일이 없다면 패키지로 인식되지 않는다.\n",
        "#######################################\n",
        "#\n",
        "from game.sound import *\n",
        "\n",
        "echo.echo_test()"
      ],
      "execution_count": null,
      "outputs": []
    },
    {
      "cell_type": "code",
      "metadata": {
        "id": "Ot2XfjJvczvk"
      },
      "source": [
        "print(\"relative 패키지\")\n",
        "#######################################\n",
        "# 만약 graphic 디렉터리의 render.py 모듈이\n",
        "# sound 디렉터리의 echo.py 모듈을 사용\n",
        "#\n",
        "# render.py를 수정\n",
        "#######################################\n",
        "#\n",
        "from game.graphic.render import render_test\n",
        "\n",
        "render_test()\n"
      ],
      "execution_count": null,
      "outputs": []
    },
    {
      "cell_type": "code",
      "metadata": {
        "id": "fGBlcLGN-3pd",
        "colab": {
          "base_uri": "https://localhost:8080/",
          "height": 35
        },
        "outputId": "cb6a2913-16bd-42d9-be6c-028af7f7eda8"
      },
      "source": [
        "# .. : parent folder\n",
        "#  . : current folder\n",
        "\"\"\"\n",
        "# render.py\n",
        "from ..sound.echo import echo_test\n",
        "def render_test():\n",
        "    print (\"render\")\n",
        "    echo_test()\n",
        "\"\"\"\n",
        "\n",
        "\n",
        "\"\"\"\n",
        "# render.py\n",
        "from game.sound.echo import echo_test\n",
        "def render_test():\n",
        "    print (\"render\")\n",
        "    echo_test()\n",
        "\"\"\"\n"
      ],
      "execution_count": 101,
      "outputs": [
        {
          "output_type": "execute_result",
          "data": {
            "application/vnd.google.colaboratory.intrinsic+json": {
              "type": "string"
            },
            "text/plain": [
              "'\\n# render.py\\nfrom game.sound.echo import echo_test\\ndef render_test():\\n    print (\"render\")\\n    echo_test()\\n'"
            ]
          },
          "metadata": {
            "tags": []
          },
          "execution_count": 101
        }
      ]
    },
    {
      "cell_type": "code",
      "metadata": {
        "id": "e_5scg4hc5Gq"
      },
      "source": [
        ""
      ],
      "execution_count": null,
      "outputs": []
    }
  ]
}